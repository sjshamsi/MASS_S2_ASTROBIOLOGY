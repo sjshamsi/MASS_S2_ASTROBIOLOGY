{
 "cells": [
  {
   "cell_type": "markdown",
   "id": "fb4afb92-81b5-49b8-99c1-c9368ba1aa51",
   "metadata": {},
   "source": [
    "### Trying to run the GUI"
   ]
  },
  {
   "cell_type": "code",
   "execution_count": 1,
   "id": "da601949-82a8-43a9-81b5-421d1dd3574e",
   "metadata": {},
   "outputs": [],
   "source": [
    "from lifesim import Gui"
   ]
  },
  {
   "cell_type": "code",
   "execution_count": 2,
   "id": "14fe5016-129b-41c2-bc01-fee9704f687e",
   "metadata": {},
   "outputs": [
    {
     "name": "stderr",
     "output_type": "stream",
     "text": [
      "libGL error: MESA-LOADER: failed to open swrast: /usr/lib/dri/swrast_dri.so: cannot open shared object file: No such file or directory (search paths /usr/lib/x86_64-linux-gnu/dri:\\$${ORIGIN}/dri:/usr/lib/dri, suffix _dri)\n",
      "libGL error: failed to load driver: swrast\n",
      "/home/sshamsi/miniconda3/envs/lifesim/lib/python3.8/site-packages/lifesim/instrument/instrument.py:420: UserWarning: The get_spectrum function was implemented with a major bug between versions 0.2.16 and 0.2.24 in which the noise level was twice as large as the correct value. If you created results with the versions in question, please validate them with the latest version of LIFEsim.\n",
      "  warn('The get_spectrum function was implemented with a major bug between versions 0.2.16 '\n"
     ]
    },
    {
     "data": {
      "text/plain": [
       "<lifesim.gui.spectrum_gui.Gui at 0x7fdf334c7070>"
      ]
     },
     "execution_count": 2,
     "metadata": {},
     "output_type": "execute_result"
    }
   ],
   "source": [
    "Gui()"
   ]
  },
  {
   "cell_type": "markdown",
   "id": "8bc9a13e-baca-490d-a0ad-6e9169151339",
   "metadata": {},
   "source": [
    "We had some trouble but turns out you need to load the spectra in the program first."
   ]
  },
  {
   "cell_type": "code",
   "execution_count": 10,
   "id": "bbb68bf4-7a4b-4525-b0ba-5ddcdd4037ec",
   "metadata": {},
   "outputs": [],
   "source": [
    "import lifesim\n",
    "import requests"
   ]
  },
  {
   "cell_type": "code",
   "execution_count": 11,
   "id": "04600af4-5af9-41a1-a741-4f09a81e4577",
   "metadata": {},
   "outputs": [],
   "source": [
    "bus = lifesim.Bus()"
   ]
  },
  {
   "cell_type": "code",
   "execution_count": 12,
   "id": "579dd6ef-669b-4662-8bc0-e7cef00ae3ce",
   "metadata": {},
   "outputs": [],
   "source": [
    "bus.data.options.set_scenario('baseline')"
   ]
  },
  {
   "cell_type": "code",
   "execution_count": 13,
   "id": "9488659d-5852-4006-b629-e300dde51ff1",
   "metadata": {},
   "outputs": [],
   "source": [
    "bus.data.options.set_manual(diameter=4.)\n",
    "bus.data.options.set_manual(output_path='/home/sshamsi/Projects/t1_lifesim/')\n",
    "bus.data.options.set_manual(output_filename='tuorial_planetary_output')"
   ]
  },
  {
   "cell_type": "code",
   "execution_count": 14,
   "id": "cafe4a3e-72fb-48a5-8696-3bc563820213",
   "metadata": {},
   "outputs": [],
   "source": [
    "# data = requests.get('https://raw.githubusercontent.com/kammerje/P-pop/main/TestPlanetPopulation.txt')\n",
    "\n",
    "catalog_path = '/home/sshamsi/Projects/t1_lifesim/ppop_catalog.txt'\n",
    "# with open(catalog_path, 'wb') as file:\n",
    "#     file.write(data.content)"
   ]
  },
  {
   "cell_type": "code",
   "execution_count": 15,
   "id": "88b298fc-e9dc-4a0f-b18d-44bafecc3c17",
   "metadata": {},
   "outputs": [
    {
     "name": "stdout",
     "output_type": "stream",
     "text": [
      "Processed line 45884 of 45884\n"
     ]
    },
    {
     "name": "stderr",
     "output_type": "stream",
     "text": [
      "/home/sshamsi/miniconda3/envs/lifesim/lib/python3.8/site-packages/numpy/lib/arraysetops.py:733: FutureWarning: elementwise comparison failed; returning scalar instead, but in the future will perform elementwise comparison\n",
      "  mask |= (ar1 == a)\n"
     ]
    },
    {
     "ename": "ValueError",
     "evalue": "Stellar type not recognised",
     "output_type": "error",
     "traceback": [
      "\u001b[0;31m---------------------------------------------------------------------------\u001b[0m",
      "\u001b[0;31mValueError\u001b[0m                                Traceback (most recent call last)",
      "Cell \u001b[0;32mIn[15], line 5\u001b[0m\n\u001b[1;32m      3\u001b[0m bus\u001b[38;5;241m.\u001b[39mdata\u001b[38;5;241m.\u001b[39mcatalog_from_ppop(input_path\u001b[38;5;241m=\u001b[39mcatalog_path)\n\u001b[1;32m      4\u001b[0m bus\u001b[38;5;241m.\u001b[39mdata\u001b[38;5;241m.\u001b[39mcatalog_remove_distance(stype\u001b[38;5;241m=\u001b[39m\u001b[38;5;124m'\u001b[39m\u001b[38;5;124mA\u001b[39m\u001b[38;5;124m'\u001b[39m, mode\u001b[38;5;241m=\u001b[39m\u001b[38;5;124m'\u001b[39m\u001b[38;5;124mlarger\u001b[39m\u001b[38;5;124m'\u001b[39m, dist\u001b[38;5;241m=\u001b[39m\u001b[38;5;241m0.\u001b[39m)  \u001b[38;5;66;03m# remove all A stars\u001b[39;00m\n\u001b[0;32m----> 5\u001b[0m \u001b[43mbus\u001b[49m\u001b[38;5;241;43m.\u001b[39;49m\u001b[43mdata\u001b[49m\u001b[38;5;241;43m.\u001b[39;49m\u001b[43mcatalog_remove_distance\u001b[49m\u001b[43m(\u001b[49m\u001b[43mstype\u001b[49m\u001b[38;5;241;43m=\u001b[39;49m\u001b[38;5;241;43m4\u001b[39;49m\u001b[43m,\u001b[49m\u001b[43m \u001b[49m\u001b[43mmode\u001b[49m\u001b[38;5;241;43m=\u001b[39;49m\u001b[38;5;124;43m'\u001b[39;49m\u001b[38;5;124;43mlarger\u001b[39;49m\u001b[38;5;124;43m'\u001b[39;49m\u001b[43m,\u001b[49m\u001b[43m \u001b[49m\u001b[43mdist\u001b[49m\u001b[38;5;241;43m=\u001b[39;49m\u001b[38;5;241;43m10.\u001b[39;49m\u001b[43m)\u001b[49m  \u001b[38;5;66;03m# remove M stars > 10pc to\u001b[39;00m\n",
      "File \u001b[0;32m~/miniconda3/envs/lifesim/lib/python3.8/site-packages/lifesim/core/data.py:408\u001b[0m, in \u001b[0;36mData.catalog_remove_distance\u001b[0;34m(self, stype, dist, mode)\u001b[0m\n\u001b[1;32m    406\u001b[0m \u001b[38;5;66;03m# check if stellar type is valid\u001b[39;00m\n\u001b[1;32m    407\u001b[0m \u001b[38;5;28;01mif\u001b[39;00m \u001b[38;5;129;01mnot\u001b[39;00m np\u001b[38;5;241m.\u001b[39misin(stype, np\u001b[38;5;241m.\u001b[39marray((\u001b[38;5;124m'\u001b[39m\u001b[38;5;124mA\u001b[39m\u001b[38;5;124m'\u001b[39m, \u001b[38;5;124m'\u001b[39m\u001b[38;5;124mF\u001b[39m\u001b[38;5;124m'\u001b[39m, \u001b[38;5;124m'\u001b[39m\u001b[38;5;124mG\u001b[39m\u001b[38;5;124m'\u001b[39m, \u001b[38;5;124m'\u001b[39m\u001b[38;5;124mK\u001b[39m\u001b[38;5;124m'\u001b[39m, \u001b[38;5;124m'\u001b[39m\u001b[38;5;124mM\u001b[39m\u001b[38;5;124m'\u001b[39m))):\n\u001b[0;32m--> 408\u001b[0m     \u001b[38;5;28;01mraise\u001b[39;00m \u001b[38;5;167;01mValueError\u001b[39;00m(\u001b[38;5;124m'\u001b[39m\u001b[38;5;124mStellar type not recognised\u001b[39m\u001b[38;5;124m'\u001b[39m)\n\u001b[1;32m    410\u001b[0m \u001b[38;5;66;03m# create masks selecting closer or more far away planets\u001b[39;00m\n\u001b[1;32m    411\u001b[0m \u001b[38;5;28;01mif\u001b[39;00m mode \u001b[38;5;241m==\u001b[39m \u001b[38;5;124m'\u001b[39m\u001b[38;5;124mlarger\u001b[39m\u001b[38;5;124m'\u001b[39m:\n",
      "\u001b[0;31mValueError\u001b[0m: Stellar type not recognised"
     ]
    }
   ],
   "source": [
    "# ---------- Loading the Catalog ----------\n",
    "\n",
    "bus.data.catalog_from_ppop(input_path=catalog_path)\n",
    "bus.data.catalog_remove_distance(stype='A', mode='larger', dist=0.)  # remove all A stars\n",
    "bus.data.catalog_remove_distance(stype='M', mode='larger', dist=10.)  # remove M stars > 10pc to"
   ]
  },
  {
   "cell_type": "code",
   "execution_count": null,
   "id": "f73304dc-ff52-4c48-a9e0-530f99b6afa4",
   "metadata": {},
   "outputs": [],
   "source": []
  }
 ],
 "metadata": {
  "kernelspec": {
   "display_name": "Python 3 (ipykernel)",
   "language": "python",
   "name": "python3"
  },
  "language_info": {
   "codemirror_mode": {
    "name": "ipython",
    "version": 3
   },
   "file_extension": ".py",
   "mimetype": "text/x-python",
   "name": "python",
   "nbconvert_exporter": "python",
   "pygments_lexer": "ipython3",
   "version": "3.8.19"
  }
 },
 "nbformat": 4,
 "nbformat_minor": 5
}
